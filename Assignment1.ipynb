{
 "cells": [
  {
   "cell_type": "code",
   "execution_count": 12,
   "metadata": {},
   "outputs": [
    {
     "name": "stdout",
     "output_type": "stream",
     "text": [
      "twinkle, twinkle, little star,\n",
      "\tHow I wonder what you are! \n",
      "\t\tUp above the world so high,\n",
      "\t\tLike a diamond in the sky.\n",
      "Twinkle, twinkle, little star,\n",
      "\tHow I wonder what you are!\n"
     ]
    }
   ],
   "source": [
    "#Q-1\n",
    "x =(\"twinkle, twinkle, little star,\\n\\t\" \n",
    "    \"How I wonder what you are! \\n\\t\\t\" ) \n",
    "\n",
    "y =(\"Up above the world so high,\\n\\t\\t\" \n",
    "   \"Like a diamond in the sky.\\n\")\n",
    "\n",
    "z =(\"Twinkle, twinkle, little star,\\n\\t\" \n",
    "    \"How I wonder what you are!\")\n",
    "\n",
    "print (x + y + z)"
   ]
  },
  {
   "cell_type": "code",
   "execution_count": 1,
   "metadata": {},
   "outputs": [
    {
     "name": "stdout",
     "output_type": "stream",
     "text": [
      "Current Date & Time \t : \t18:30:00 12/21/19 \n"
     ]
    }
   ],
   "source": [
    "#Q-3\n",
    "import datetime\n",
    "now = datetime.datetime.now()\n",
    "a=(\"Current Date & Time \\t : \\t\")\n",
    "b= (now.strftime(\"%H:%M:%S %D \"))\n",
    "print (a+b)\n"
   ]
  },
  {
   "cell_type": "code",
   "execution_count": 3,
   "metadata": {},
   "outputs": [
    {
     "name": "stdout",
     "output_type": "stream",
     "text": [
      "Enter radius of a circle:12\n",
      " Area Of Circle = 37.7 \n"
     ]
    }
   ],
   "source": [
    "#Q-4\n",
    "PI = 3.142\n",
    "radius = float(input('Enter radius of a circle:'))\n",
    "area = PI * radius \n",
    "\n",
    "print(\" Area Of Circle = %.1f \" %area)"
   ]
  },
  {
   "cell_type": "code",
   "execution_count": 10,
   "metadata": {},
   "outputs": [
    {
     "name": "stdout",
     "output_type": "stream",
     "text": [
      "Bilal Mubeen Syed Muhammad\n"
     ]
    }
   ],
   "source": [
    "#Q-5\n",
    "First_name= (\"Syed Muhammad\")\n",
    "Last_name= (\"Bilal Mubeen \")\n",
    "print (Last_name + First_name)"
   ]
  },
  {
   "cell_type": "code",
   "execution_count": 12,
   "metadata": {},
   "outputs": [
    {
     "name": "stdout",
     "output_type": "stream",
     "text": [
      "First Number: 12\n",
      "Second Number: 12\n",
      "Addition: 24\n"
     ]
    }
   ],
   "source": [
    "#Q-6\n",
    "a = int(input(\"First Number: \"))\n",
    "b = int(input(\"Second Number: \"))\n",
    "addition = a + b \n",
    "print(\"Addition:\", addition)"
   ]
  },
  {
   "cell_type": "code",
   "execution_count": null,
   "metadata": {},
   "outputs": [],
   "source": []
  },
  {
   "cell_type": "code",
   "execution_count": null,
   "metadata": {},
   "outputs": [],
   "source": []
  },
  {
   "cell_type": "code",
   "execution_count": null,
   "metadata": {},
   "outputs": [],
   "source": []
  },
  {
   "cell_type": "code",
   "execution_count": null,
   "metadata": {},
   "outputs": [],
   "source": []
  }
 ],
 "metadata": {
  "kernelspec": {
   "display_name": "Python 3",
   "language": "python",
   "name": "python3"
  },
  "language_info": {
   "codemirror_mode": {
    "name": "ipython",
    "version": 3
   },
   "file_extension": ".py",
   "mimetype": "text/x-python",
   "name": "python",
   "nbconvert_exporter": "python",
   "pygments_lexer": "ipython3",
   "version": "3.7.3"
  }
 },
 "nbformat": 4,
 "nbformat_minor": 2
}
